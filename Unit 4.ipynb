{
 "cells": [
  {
   "cell_type": "code",
   "execution_count": 15,
   "metadata": {},
   "outputs": [],
   "source": [
    "import numpy as np\n",
    "import pandas as pd\n",
    "import matplotlib.pyplot as plt\n",
    "from math import sqrt\n",
    "from scipy.stats import norm"
   ]
  },
  {
   "cell_type": "code",
   "execution_count": 3,
   "metadata": {},
   "outputs": [
    {
     "name": "stdout",
     "output_type": "stream",
     "text": [
      "Reject H0\n"
     ]
    }
   ],
   "source": [
    "# Hypothesis Testing\n",
    "# H0 : Mu >= 100\n",
    "# H1 : Mu < 100 // Left Tailed Test\n",
    "# Significance Level : 0.05\n",
    "\n",
    "mu0 = 100\n",
    "n = 30\n",
    "sigma = 10\n",
    "alpha = 0.05\n",
    "\n",
    "z_nd = norm.ppf(0.05)\n",
    "se = sigma/np.sqrt(n)\n",
    "\n",
    "p_value = norm.cdf(z_nd)\n",
    "\n",
    "if(p_value < alpha):\n",
    "    print(\"Reject H0\")\n",
    "else:\n",
    "    print(\"Fail to Reject H0\")\n",
    "\n"
   ]
  },
  {
   "cell_type": "code",
   "execution_count": 4,
   "metadata": {},
   "outputs": [
    {
     "name": "stdout",
     "output_type": "stream",
     "text": [
      "Fail to Reject H0\n"
     ]
    }
   ],
   "source": [
    "# Hypothesis Testing\n",
    "# H0 : Mu <= 100\n",
    "# H1 : Mu > 100 // Right Tailed Test\n",
    "# Significance Level : 0.05\n",
    "\n",
    "mu0 = 100\n",
    "n = 30\n",
    "sigma = 10\n",
    "alpha = 0.05\n",
    "\n",
    "z_nd = norm.ppf(0.05)\n",
    "se = sigma/np.sqrt(n)\n",
    "\n",
    "p_value = 1-norm.cdf(z_nd)\n",
    "if(p_value < alpha):\n",
    "    print(\"Reject H0\")\n",
    "else:\n",
    "    print(\"Fail to Reject H0\")"
   ]
  },
  {
   "cell_type": "code",
   "execution_count": 5,
   "metadata": {},
   "outputs": [
    {
     "name": "stdout",
     "output_type": "stream",
     "text": [
      "Fail to Reject H0\n"
     ]
    }
   ],
   "source": [
    "# Hypothesis Testing\n",
    "# H0 : Mu = 100\n",
    "# H1 : Mu != 100 // Two Tailed Test\n",
    "\n",
    "mu0 = 100\n",
    "n = 50\n",
    "sigma = 0.1\n",
    "alpha = 0.0005\n",
    "\n",
    "z_nd = norm.ppf(0.025)\n",
    "se = sigma/np.sqrt(n)\n",
    "\n",
    "p_value = 2*norm.cdf(z_nd)\n",
    "if(p_value < alpha):\n",
    "    print(\"Reject H0\")\n",
    "else:\n",
    "    print(\"Fail to Reject H0\")"
   ]
  },
  {
   "cell_type": "code",
   "execution_count": 16,
   "metadata": {},
   "outputs": [
    {
     "name": "stdout",
     "output_type": "stream",
     "text": [
      "p =  0.13666083914614907\n",
      "Cannot reject H0\n"
     ]
    }
   ],
   "source": [
    "# Hypothesis Testing\n",
    "#H0:mu>=40\n",
    "#Ha:mu<40  left tailed test\n",
    "n=30\n",
    "sigma=10\n",
    "alpha=0.05\n",
    "x_bar=38\n",
    "mu0=40\n",
    "se=sigma/sqrt(n)\n",
    "z=(x_bar-mu0)/se\n",
    "p=norm.cdf(z)\n",
    "print('p = ',p)\n",
    "if(p<0.05):\n",
    "    print('reject H0')\n",
    "else:\n",
    "    print('Cannot reject H0')"
   ]
  },
  {
   "cell_type": "code",
   "execution_count": 20,
   "metadata": {},
   "outputs": [
    {
     "name": "stdout",
     "output_type": "stream",
     "text": [
      "p =  6.302322506035463e-05\n",
      "reject H0\n"
     ]
    }
   ],
   "source": [
    "# Hypothesis Testing\n",
    "#H0:mu<=40\n",
    "#Ha:mu>40  right tailed test\n",
    "n=30\n",
    "sigma=10\n",
    "alpha=0.05\n",
    "x_bar=47\n",
    "mu0=40\n",
    "se=sigma/sqrt(n)\n",
    "z=(x_bar-mu0)/se\n",
    "p=(1-norm.cdf(z))\n",
    "print('p = ',p)\n",
    "if(p<0.05):\n",
    "    print('reject H0')\n",
    "else:\n",
    "    print('Cannot reject H0')"
   ]
  },
  {
   "cell_type": "code",
   "execution_count": 21,
   "metadata": {},
   "outputs": [
    {
     "name": "stdout",
     "output_type": "stream",
     "text": [
      "p =  1.1771339097651562e-05\n",
      "reject H0\n"
     ]
    }
   ],
   "source": [
    "# Hypothesis Testing\n",
    "#H0:mu=40\n",
    "#Ha:mu!=40  two tailed tailed test\n",
    "n=30\n",
    "sigma=10\n",
    "alpha=0.05\n",
    "x_bar=48\n",
    "mu0=40\n",
    "se=sigma/sqrt(n)\n",
    "z=(x_bar-mu0)/se\n",
    "p=(norm.cdf(-z))+(1-norm.cdf(z))\n",
    "print('p = ',p)\n",
    "if(p<0.05):\n",
    "    print('reject H0')\n",
    "else:\n",
    "    print('Cannot reject H0')"
   ]
  },
  {
   "cell_type": "code",
   "execution_count": 13,
   "metadata": {},
   "outputs": [
    {
     "data": {
      "image/png": "[encoded data removed]",
      "text/plain": [
       "<Figure size 432x288 with 1 Axes>"
      ]
     },
     "metadata": {
      "needs_background": "light"
     },
     "output_type": "display_data"
    }
   ],
   "source": [
    "# Normal Distribution\n",
    "data = pd.read_csv(\"C:/Users/Riya_Asmi/Downloads/height-weight.csv\")\n",
    "data.head()\n",
    "\n",
    "# Find Probability Density Function of Weight and Plot it\n",
    "\n",
    "weight = data['weight']\n",
    "weight_mean = weight.mean()\n",
    "weight_std = weight.std()\n",
    "\n",
    "weight_pdf = []\n",
    "for i in range(20,500):\n",
    "    weight_pdf.append(norm.pdf(i,weight_mean,weight_std))\n",
    "\n",
    "plt.plot(range(20,500),weight_pdf)\n",
    "plt.show()"
   ]
  },
  {
   "cell_type": "code",
   "execution_count": null,
   "metadata": {},
   "outputs": [],
   "source": []
  }
 ],
 "metadata": {
  "kernelspec": {
   "display_name": "Python 3",
   "language": "python",
   "name": "python3"
  },
  "language_info": {
   "codemirror_mode": {
    "name": "ipython",
    "version": 3
   },
   "file_extension": ".py",
   "mimetype": "text/x-python",
   "name": "python",
   "nbconvert_exporter": "python",
   "pygments_lexer": "ipython3",
   "version": "3.8.3"
  }
 },
 "nbformat": 4,
 "nbformat_minor": 4
}
