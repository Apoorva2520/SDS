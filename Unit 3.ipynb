{
 "cells": [
  {
   "cell_type": "code",
   "execution_count": 9,
   "metadata": {},
   "outputs": [],
   "source": [
    "import numpy as np\n",
    "import pandas as pd\n",
    "import csv\n",
    "import math\n",
    "import matplotlib.pyplot as plt\n",
    "import scipy.stats as stats\n",
    "import seaborn as sns\n",
    "%matplotlib inline\n",
    "from math import sqrt\n",
    "from scipy.stats import norm\n",
    "from scipy.stats import binom"
   ]
  },
  {
   "cell_type": "code",
   "execution_count": 12,
   "metadata": {},
   "outputs": [
    {
     "name": "stdout",
     "output_type": "stream",
     "text": [
      "The confidence interval is ( 126.93487383315647 127.22396848844184 )\n"
     ]
    }
   ],
   "source": [
    "#Confidence Interval\n",
    "df=pd.read_csv(\"C:/Users/Riya_Asmi/Downloads/height-weight.csv\")\n",
    "alpha=0.05\n",
    "x_bar=np.mean(df['weight'])\n",
    "x=df['weight']\n",
    "n=len(df)\n",
    "s=x.std()\n",
    "alpha=0.05\n",
    "z=norm.ppf(alpha/2)\n",
    "UB=x_bar-(z*s/sqrt(n))\n",
    "LB=x_bar+(z*s/sqrt(n))\n",
    "print('The confidence interval is','(',LB,UB,')')"
   ]
  },
  {
   "cell_type": "code",
   "execution_count": 11,
   "metadata": {},
   "outputs": [
    {
     "data": {
      "text/html": [
       "<div>\n",
       "<style scoped>\n",
       "    .dataframe tbody tr th:only-of-type {\n",
       "        vertical-align: middle;\n",
       "    }\n",
       "\n",
       "    .dataframe tbody tr th {\n",
       "        vertical-align: top;\n",
       "    }\n",
       "\n",
       "    .dataframe thead th {\n",
       "        text-align: right;\n",
       "    }\n",
       "</style>\n",
       "<table border=\"1\" class=\"dataframe\">\n",
       "  <thead>\n",
       "    <tr style=\"text-align: right;\">\n",
       "      <th></th>\n",
       "      <th>height</th>\n",
       "      <th>weight</th>\n",
       "    </tr>\n",
       "  </thead>\n",
       "  <tbody>\n",
       "    <tr>\n",
       "      <th>0</th>\n",
       "      <td>65.78331</td>\n",
       "      <td>112.9925</td>\n",
       "    </tr>\n",
       "    <tr>\n",
       "      <th>1</th>\n",
       "      <td>71.51521</td>\n",
       "      <td>136.4873</td>\n",
       "    </tr>\n",
       "    <tr>\n",
       "      <th>2</th>\n",
       "      <td>69.39874</td>\n",
       "      <td>153.0269</td>\n",
       "    </tr>\n",
       "    <tr>\n",
       "      <th>3</th>\n",
       "      <td>68.21660</td>\n",
       "      <td>142.3354</td>\n",
       "    </tr>\n",
       "    <tr>\n",
       "      <th>4</th>\n",
       "      <td>67.78781</td>\n",
       "      <td>144.2971</td>\n",
       "    </tr>\n",
       "  </tbody>\n",
       "</table>\n",
       "</div>"
      ],
      "text/plain": [
       "     height    weight\n",
       "0  65.78331  112.9925\n",
       "1  71.51521  136.4873\n",
       "2  69.39874  153.0269\n",
       "3  68.21660  142.3354\n",
       "4  67.78781  144.2971"
      ]
     },
     "execution_count": 11,
     "metadata": {},
     "output_type": "execute_result"
    }
   ],
   "source": [
    "#Confidence Interval\n",
    "#we will use the z-score for a 95% confidence interval\n",
    "#df = pd.read_csv('C:/Users/Riya_Asmi/Downloads/height-weight.csv')\n",
    "df.head()"
   ]
  },
  {
   "cell_type": "code",
   "execution_count": 13,
   "metadata": {},
   "outputs": [
    {
     "data": {
      "text/plain": [
       "127.07942116079916"
      ]
     },
     "execution_count": 13,
     "metadata": {},
     "output_type": "execute_result"
    }
   ],
   "source": [
    "#Confidence Interval\n",
    "pop_mean = np.mean(df.weight)\n",
    "pop_mean"
   ]
  },
  {
   "cell_type": "code",
   "execution_count": 14,
   "metadata": {},
   "outputs": [
    {
     "name": "stdout",
     "output_type": "stream",
     "text": [
      "The number of times the population mean lies in the confidence interval is:  98\n",
      "Proportion of times the population mean lies in the confidence interval is:  0.98\n"
     ]
    },
    {
     "data": {
      "image/png": "[encoded data removed]",
      "text/plain": [
       "<Figure size 1080x360 with 1 Axes>"
      ]
     },
     "metadata": {
      "needs_background": "light"
     },
     "output_type": "display_data"
    }
   ],
   "source": [
    "#Confidence Interval\n",
    "def sampling(sample_size, no_of_samples):\n",
    "    sample_means = []\n",
    "    intervals = []\n",
    "    count = 0\n",
    "    for i in range(no_of_samples):\n",
    "        sample = df.weight.sample(sample_size)\n",
    "        sample_means.append(np.mean(sample))\n",
    "        ci = norm.interval(0.95, np.mean(sample),np.std(sample, ddof = 1)/sqrt(sample_size))\n",
    "        intervals.append(ci)\n",
    "        if(pop_mean > ci[0] and pop_mean < ci[1]):\n",
    "            count += 1\n",
    "    print(\"The number of times the population mean lies in the confidence interval is: \", count)\n",
    "    print(\"Proportion of times the population mean lies in the confidence interval is: \", count/no_of_samples)\n",
    "    plt.figure(figsize = (15,5))\n",
    "    plt.hlines(y=pop_mean, xmin=0, xmax=no_of_samples, color='r', linestyles='dashed')\n",
    "    plt.errorbar(x=range(no_of_samples), y=sample_means, yerr=[(top-bot)/2 for top,bot in intervals], fmt='o')\n",
    "    plt.show()\n",
    "sampling(1000, 100)    "
   ]
  },
  {
   "cell_type": "code",
   "execution_count": 8,
   "metadata": {},
   "outputs": [
    {
     "name": "stdout",
     "output_type": "stream",
     "text": [
      "Using X ~ Bin(100,0.5) , P(45 <= X >= 55)\n",
      "0.7287469759261658\n",
      "Using X ~ N(100*0.5,100*0.25) , P(45 <= X >= 55)\n",
      "0.6826894921370859\n",
      "Apllying Continuity correction\n",
      "0.7286678781072347\n"
     ]
    }
   ],
   "source": [
    "#Binomial Distribution\n",
    "# X ~ Bin(100,0.5)\n",
    "# X ~ N(50,sd=5)\n",
    "#P(45 <= X >= 55)\n",
    "\n",
    "print('Using X ~ Bin(100,0.5) , P(45 <= X >= 55)')\n",
    "print(binom.cdf(55,100,0.5)-binom.cdf(44,100,0.5))\n",
    "\n",
    "print('Using X ~ N(100*0.5,100*0.25) , P(45 <= X >= 55)')\n",
    "print(norm.cdf(55,50,5)-norm.cdf(45,50,5))\n",
    "\n",
    "print('Apllying Continuity correction')\n",
    "print(norm.cdf(55.5,50,5)-norm.cdf(44.5,50,5))\n"
   ]
  }
 ],
 "metadata": {
  "kernelspec": {
   "display_name": "Python 3",
   "language": "python",
   "name": "python3"
  },
  "language_info": {
   "codemirror_mode": {
    "name": "ipython",
    "version": 3
   },
   "file_extension": ".py",
   "mimetype": "text/x-python",
   "name": "python",
   "nbconvert_exporter": "python",
   "pygments_lexer": "ipython3",
   "version": "3.8.3"
  }
 },
 "nbformat": 4,
 "nbformat_minor": 4
}
